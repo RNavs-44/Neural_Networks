{
  "nbformat": 4,
  "nbformat_minor": 0,
  "metadata": {
    "colab": {
      "provenance": [],
      "authorship_tag": "ABX9TyO3iFqqf/b2sl8knfR+F2Km",
      "include_colab_link": true
    },
    "kernelspec": {
      "name": "python3",
      "display_name": "Python 3"
    },
    "language_info": {
      "name": "python"
    }
  },
  "cells": [
    {
      "cell_type": "markdown",
      "metadata": {
        "id": "view-in-github",
        "colab_type": "text"
      },
      "source": [
        "<a href=\"https://colab.research.google.com/github/RNavs-44/Neural_Networks/blob/main/makemore_mlp.ipynb\" target=\"_parent\"><img src=\"https://colab.research.google.com/assets/colab-badge.svg\" alt=\"Open In Colab\"/></a>"
      ]
    },
    {
      "cell_type": "code",
      "execution_count": 2,
      "metadata": {
        "id": "ZLnv8xWmUxGm"
      },
      "outputs": [],
      "source": [
        "import torch\n",
        "import torch.nn.functional as F\n",
        "import random\n",
        "import matplotlib.pyplot as plt # for making figures\n",
        "%matplotlib inline"
      ]
    },
    {
      "cell_type": "code",
      "source": [
        "!wget https://raw.githubusercontent.com/karpathy/makemore/master/names.txt"
      ],
      "metadata": {
        "colab": {
          "base_uri": "https://localhost:8080/"
        },
        "id": "kpKOcyPWVr2Y",
        "outputId": "9a7a425d-ce93-4373-8d82-0c5ff4db6116"
      },
      "execution_count": 3,
      "outputs": [
        {
          "output_type": "stream",
          "name": "stdout",
          "text": [
            "--2024-03-23 12:40:47--  https://raw.githubusercontent.com/karpathy/makemore/master/names.txt\n",
            "Resolving raw.githubusercontent.com (raw.githubusercontent.com)... 185.199.109.133, 185.199.110.133, 185.199.108.133, ...\n",
            "Connecting to raw.githubusercontent.com (raw.githubusercontent.com)|185.199.109.133|:443... connected.\n",
            "HTTP request sent, awaiting response... 200 OK\n",
            "Length: 228145 (223K) [text/plain]\n",
            "Saving to: ‘names.txt’\n",
            "\n",
            "names.txt           100%[===================>] 222.80K  --.-KB/s    in 0.08s   \n",
            "\n",
            "2024-03-23 12:40:48 (2.61 MB/s) - ‘names.txt’ saved [228145/228145]\n",
            "\n"
          ]
        }
      ]
    },
    {
      "cell_type": "code",
      "source": [
        "# read in all the words\n",
        "words = open('names.txt', 'r').read().splitlines()\n",
        "words[:8]"
      ],
      "metadata": {
        "colab": {
          "base_uri": "https://localhost:8080/"
        },
        "id": "A0Vk6NqTVvyn",
        "outputId": "6fc7cd59-432b-472f-d440-284d6010e47d"
      },
      "execution_count": 9,
      "outputs": [
        {
          "output_type": "execute_result",
          "data": {
            "text/plain": [
              "['emma', 'olivia', 'ava', 'isabella', 'sophia', 'charlotte', 'mia', 'amelia']"
            ]
          },
          "metadata": {},
          "execution_count": 9
        }
      ]
    },
    {
      "cell_type": "code",
      "source": [
        "len(words)"
      ],
      "metadata": {
        "colab": {
          "base_uri": "https://localhost:8080/"
        },
        "id": "jw8IcdweV5HO",
        "outputId": "b41e1823-f37f-4e9e-81f8-d324ba47dfd0"
      },
      "execution_count": 5,
      "outputs": [
        {
          "output_type": "execute_result",
          "data": {
            "text/plain": [
              "32033"
            ]
          },
          "metadata": {},
          "execution_count": 5
        }
      ]
    },
    {
      "cell_type": "code",
      "source": [
        "# build vocabulary of characters and mapping to / from integers\n",
        "chars = sorted(list(set(''.join(words))))\n",
        "stoi = {s: i + 1 for i, s in enumerate(chars)}\n",
        "stoi['.'] = 0\n",
        "itos = {i: s for s, i in stoi.items()}\n",
        "vocab_size = len(itos)\n",
        "print(itos)\n",
        "print(vocab_size)"
      ],
      "metadata": {
        "colab": {
          "base_uri": "https://localhost:8080/"
        },
        "id": "glnn_Fa3V9to",
        "outputId": "88d04702-2e4c-4b28-d2dc-b9349cc9efc5"
      },
      "execution_count": 6,
      "outputs": [
        {
          "output_type": "stream",
          "name": "stdout",
          "text": [
            "{1: 'a', 2: 'b', 3: 'c', 4: 'd', 5: 'e', 6: 'f', 7: 'g', 8: 'h', 9: 'i', 10: 'j', 11: 'k', 12: 'l', 13: 'm', 14: 'n', 15: 'o', 16: 'p', 17: 'q', 18: 'r', 19: 's', 20: 't', 21: 'u', 22: 'v', 23: 'w', 24: 'x', 25: 'y', 26: 'z', 0: '.'}\n",
            "27\n"
          ]
        }
      ]
    },
    {
      "cell_type": "code",
      "source": [
        "# build the dataset\n",
        "block_size = 3 # context length\n",
        "\n",
        "def build_dataset(words):\n",
        "  x, y = [], []\n",
        "  for w in words:\n",
        "    context = [0] * block_size\n",
        "    for ch in w + '.':\n",
        "      ix = stoi[ch]\n",
        "      x.append(context)\n",
        "      y.append(ix)\n",
        "      context = context[1:] + [ix] # crop and append\n",
        "\n",
        "  x = torch.tensor(x)\n",
        "  y = torch.tensor(y)\n",
        "\n",
        "  return x, y\n",
        "\n",
        "random.seed(42)\n",
        "random.shuffle(words)\n",
        "n1 = int(0.8 * len(words))\n",
        "n2 = int(0.9 * len(words))\n",
        "\n",
        "xtr, ytr = build_dataset(words[:n1])\n",
        "xdev, ydev = build_dataset(words[n1:n2])\n",
        "xts, yts = build_dataset(words[n2:])"
      ],
      "metadata": {
        "id": "pOASGZDCW5rh"
      },
      "execution_count": 7,
      "outputs": []
    },
    {
      "cell_type": "code",
      "source": [
        "n_embd = 10\n",
        "n_hidden = 200\n",
        "\n",
        "g = torch.Generator().manual_seed(2147483647)\n",
        "c = torch.randn((vocab_size, n_embd), generator=g)\n",
        "w1 = torch.randn((n_embd * block_size, n_hidden), generator=g) * (5 / 3) / ((n_embd * block_size) ** 0.5) # x0.3\n",
        "b1 = torch.randn(n_hidden, generator=g) * 0.01\n",
        "w2 = torch.randn((n_hidden, vocab_size), generator=g) * 0.01\n",
        "b2 = torch.randn(vocab_size, generator=g) * 0\n",
        "\n",
        "bngain = torch.ones((1, n_hidden))\n",
        "bnbias = torch.zeros((1, n_hidden))\n",
        "\n",
        "parameters = [c, w1, b1, w2, b2, bngain, bnbias]\n",
        "\n",
        "print(sum(p.nelement() for p in parameters)) # number of parameters in total\n",
        "\n",
        "for p in parameters:\n",
        "  p.requires_grad = True"
      ],
      "metadata": {
        "colab": {
          "base_uri": "https://localhost:8080/"
        },
        "id": "_49VSDj6ZLXQ",
        "outputId": "a2b23744-7b0c-4b18-f443-ff4c27c992cb"
      },
      "execution_count": 11,
      "outputs": [
        {
          "output_type": "stream",
          "name": "stdout",
          "text": [
            "12297\n"
          ]
        }
      ]
    },
    {
      "cell_type": "code",
      "source": [
        "max_steps = 200000\n",
        "batch_size = 32\n",
        "lossi = []\n",
        "\n",
        "for i in range(max_steps):\n",
        "  # minibatch construction\n",
        "  ix = torch.randint(0, xtr.shape[0], (batch_size, )) # randint(low, hight, size)\n",
        "  xb, yb = xtr[ix], ytr[ix]\n",
        "\n",
        "  # forward pass\n",
        "  emb = c[xb]\n",
        "  embcat = emb.view(emb.shape[0], -1)\n",
        "  hpreact = embcat @ w1 + b1\n",
        "  hpreact = bngain * (hpreact - hpreact.mean(0, keepdim=True)) / hpreact.std(0, keepdim=True) + bnbias\n",
        "  h = torch.tanh(hpreact)\n",
        "  logits = h @ w2 + b2\n",
        "  loss = F.cross_entropy(logits, yb)\n",
        "\n",
        "  # backward pass\n",
        "  for p in parameters:\n",
        "    p.grad = None\n",
        "  loss.backward()\n",
        "\n",
        "  # update\n",
        "  lr = 0.1 if i < 100000 else 0.01\n",
        "  for p in parameters:\n",
        "    p.data += -lr * p.grad\n",
        "\n",
        "  # track stats\n",
        "  if i % 10000 == 0:\n",
        "    print(f'{i:7d} / {max_steps:7d}: {loss.item()}')\n",
        "  lossi.append(loss.log10().item())\n",
        "\n",
        "print(loss.item())"
      ],
      "metadata": {
        "colab": {
          "base_uri": "https://localhost:8080/"
        },
        "id": "oDtC6ZR-Zjtw",
        "outputId": "fbc80689-531a-49e0-fd58-2dc9a1f9682b"
      },
      "execution_count": 12,
      "outputs": [
        {
          "output_type": "stream",
          "name": "stdout",
          "text": [
            "      0 /  200000: 3.32480525970459\n",
            "  10000 /  200000: 2.446129560470581\n",
            "  20000 /  200000: 2.4671530723571777\n",
            "  30000 /  200000: 1.9742863178253174\n",
            "  40000 /  200000: 2.1451587677001953\n",
            "  50000 /  200000: 2.432570457458496\n",
            "  60000 /  200000: 1.9758281707763672\n",
            "  70000 /  200000: 2.1034862995147705\n",
            "  80000 /  200000: 2.0959479808807373\n",
            "  90000 /  200000: 1.7195336818695068\n",
            " 100000 /  200000: 2.09816312789917\n",
            " 110000 /  200000: 1.9536595344543457\n",
            " 120000 /  200000: 1.9467417001724243\n",
            " 130000 /  200000: 2.4135806560516357\n",
            " 140000 /  200000: 2.1916069984436035\n",
            " 150000 /  200000: 1.8901985883712769\n",
            " 160000 /  200000: 2.267315626144409\n",
            " 170000 /  200000: 2.055544137954712\n",
            " 180000 /  200000: 2.377354860305786\n",
            " 190000 /  200000: 2.041982412338257\n",
            "1.9040037393569946\n"
          ]
        }
      ]
    },
    {
      "cell_type": "code",
      "source": [
        "plt.figure(figsize=(20,10))\n",
        "plt.imshow(h.abs() > 0.99, cmap='gray', interpolation='nearest')"
      ],
      "metadata": {
        "id": "3_GSqCw_YpQd",
        "outputId": "cb4462ba-877c-4a16-8b44-8d22d360de05",
        "colab": {
          "base_uri": "https://localhost:8080/",
          "height": 276
        }
      },
      "execution_count": 13,
      "outputs": [
        {
          "output_type": "execute_result",
          "data": {
            "text/plain": [
              "<matplotlib.image.AxesImage at 0x7e69077ab700>"
            ]
          },
          "metadata": {},
          "execution_count": 13
        },
        {
          "output_type": "display_data",
          "data": {
            "text/plain": [
              "<Figure size 2000x1000 with 1 Axes>"
            ],
            "image/png": "[encoded data removed]"
          },
          "metadata": {}
        }
      ]
    },
    {
      "cell_type": "code",
      "source": [
        "plt.hist(h.view(-1).tolist(), 50);"
      ],
      "metadata": {
        "id": "aEAy68iWYOdG",
        "outputId": "430a3bd1-6eb2-4b6f-ec1e-e5e08c163fbf",
        "colab": {
          "base_uri": "https://localhost:8080/",
          "height": 430
        }
      },
      "execution_count": 14,
      "outputs": [
        {
          "output_type": "display_data",
          "data": {
            "text/plain": [
              "<Figure size 640x480 with 1 Axes>"
            ],
            "image/png": "[encoded data removed]"
          },
          "metadata": {}
        }
      ]
    },
    {
      "cell_type": "code",
      "source": [
        "# expected initial loss\n",
        "-torch.tensor(1/27.0).log()"
      ],
      "metadata": {
        "id": "q6PXt9qhJ53k",
        "outputId": "777d04b9-626f-49be-a376-19eaa4822019",
        "colab": {
          "base_uri": "https://localhost:8080/"
        }
      },
      "execution_count": 15,
      "outputs": [
        {
          "output_type": "execute_result",
          "data": {
            "text/plain": [
              "tensor(3.2958)"
            ]
          },
          "metadata": {},
          "execution_count": 15
        }
      ]
    },
    {
      "cell_type": "code",
      "source": [
        "plt.plot(lossi)"
      ],
      "metadata": {
        "id": "7-CEedkfINdA",
        "outputId": "3caea99f-a19f-4bb3-ced5-94998153d82f",
        "colab": {
          "base_uri": "https://localhost:8080/",
          "height": 448
        }
      },
      "execution_count": 16,
      "outputs": [
        {
          "output_type": "execute_result",
          "data": {
            "text/plain": [
              "[<matplotlib.lines.Line2D at 0x7e690754e320>]"
            ]
          },
          "metadata": {},
          "execution_count": 16
        },
        {
          "output_type": "display_data",
          "data": {
            "text/plain": [
              "<Figure size 640x480 with 1 Axes>"
            ],
            "image/png": "[encoded data removed]"
          },
          "metadata": {}
        }
      ]
    },
    {
      "cell_type": "code",
      "source": [
        "@torch.no_grad()\n",
        "def split_loss(split):\n",
        "  x, y = {\n",
        "      'train': (xtr, ytr),\n",
        "      'val': (xdev, ydev),\n",
        "      'test': (xts, yts),\n",
        "  }[split]\n",
        "  emb = c[x]\n",
        "  embcat = emb.view(emb.shape[0], -1)\n",
        "  hpreact = embcat @ w1 + b1\n",
        "  hpreact = bngain * (hpreact - hpreact.mean(0, keepdim=True)) / hpreact.std(0, keepdim=True) + bnbias\n",
        "  h = torch.tanh(hpreact)\n",
        "  logits = h @ w2 + b2\n",
        "  loss = F.cross_entropy(logits, y)\n",
        "  print(split, loss.item())\n",
        "\n",
        "split_loss('train')\n",
        "split_loss('val')"
      ],
      "metadata": {
        "colab": {
          "base_uri": "https://localhost:8080/"
        },
        "id": "4_AZg4ubj3s1",
        "outputId": "b62e3b39-5a51-4713-a8b9-24ecfcb4a686"
      },
      "execution_count": 21,
      "outputs": [
        {
          "output_type": "stream",
          "name": "stdout",
          "text": [
            "train 2.0670018196105957\n",
            "val 2.1055641174316406\n"
          ]
        }
      ]
    },
    {
      "cell_type": "code",
      "source": [
        "# sample from model\n",
        "for _ in range(50):\n",
        "  out = []\n",
        "  context = [0] * block_size\n",
        "  while True:\n",
        "    # forward pass neural net\n",
        "    emb = c[torch.tensor(context)]\n",
        "    embcat = emb.view(1, -1)\n",
        "    hpreact = embcat @ w1 + b1\n",
        "    hpreact = bngain * (hpreact - hpreact.mean(0, keepdim=True)) / hpreact.std(0, keepdim=True) + bnbias\n",
        "    h = torch.tanh(hpreact)\n",
        "    logits = h @ w2 + b2\n",
        "    probs = F.softmax(logits, dim = 1)\n",
        "\n",
        "    # sample from distribution\n",
        "    ix = torch.multinomial(probs, num_samples=1, generator=g).item()\n",
        "\n",
        "    # shift context window and track samples\n",
        "    context = context[1:] + [ix]\n",
        "    out.append(ix)\n",
        "\n",
        "    # if we sample special '.' token break\n",
        "    if ix == 0:\n",
        "      break\n",
        "  print(''.join(itos[i] for i in out)) # print generated word"
      ],
      "metadata": {
        "colab": {
          "base_uri": "https://localhost:8080/",
          "height": 271
        },
        "id": "02BoF9tUkgHT",
        "outputId": "7c2d56a7-18eb-4cbb-ad1f-dd2bbe2cc474"
      },
      "execution_count": 20,
      "outputs": [
        {
          "output_type": "stream",
          "name": "stderr",
          "text": [
            "<ipython-input-20-f5cf5e278d7c>:10: UserWarning: std(): degrees of freedom is <= 0. Correction should be strictly less than the reduction factor (input numel divided by output numel). (Triggered internally at ../aten/src/ATen/native/ReduceOps.cpp:1760.)\n",
            "  hpreact = bngain * (hpreact - hpreact.mean(0, keepdim=True)) / hpreact.std(0, keepdim=True) + bnbias\n"
          ]
        },
        {
          "output_type": "error",
          "ename": "RuntimeError",
          "evalue": "probability tensor contains either `inf`, `nan` or element < 0",
          "traceback": [
            "\u001b[0;31m---------------------------------------------------------------------------\u001b[0m",
            "\u001b[0;31mRuntimeError\u001b[0m                              Traceback (most recent call last)",
            "\u001b[0;32m<ipython-input-20-f5cf5e278d7c>\u001b[0m in \u001b[0;36m<cell line: 2>\u001b[0;34m()\u001b[0m\n\u001b[1;32m     14\u001b[0m \u001b[0;34m\u001b[0m\u001b[0m\n\u001b[1;32m     15\u001b[0m     \u001b[0;31m# sample from distribution\u001b[0m\u001b[0;34m\u001b[0m\u001b[0;34m\u001b[0m\u001b[0m\n\u001b[0;32m---> 16\u001b[0;31m     \u001b[0mix\u001b[0m \u001b[0;34m=\u001b[0m \u001b[0mtorch\u001b[0m\u001b[0;34m.\u001b[0m\u001b[0mmultinomial\u001b[0m\u001b[0;34m(\u001b[0m\u001b[0mprobs\u001b[0m\u001b[0;34m,\u001b[0m \u001b[0mnum_samples\u001b[0m\u001b[0;34m=\u001b[0m\u001b[0;36m1\u001b[0m\u001b[0;34m,\u001b[0m \u001b[0mgenerator\u001b[0m\u001b[0;34m=\u001b[0m\u001b[0mg\u001b[0m\u001b[0;34m)\u001b[0m\u001b[0;34m.\u001b[0m\u001b[0mitem\u001b[0m\u001b[0;34m(\u001b[0m\u001b[0;34m)\u001b[0m\u001b[0;34m\u001b[0m\u001b[0;34m\u001b[0m\u001b[0m\n\u001b[0m\u001b[1;32m     17\u001b[0m \u001b[0;34m\u001b[0m\u001b[0m\n\u001b[1;32m     18\u001b[0m     \u001b[0;31m# shift context window and track samples\u001b[0m\u001b[0;34m\u001b[0m\u001b[0;34m\u001b[0m\u001b[0m\n",
            "\u001b[0;31mRuntimeError\u001b[0m: probability tensor contains either `inf`, `nan` or element < 0"
          ]
        }
      ]
    }
  ]
}