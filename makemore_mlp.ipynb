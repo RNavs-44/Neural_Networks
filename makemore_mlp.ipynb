{
  "nbformat": 4,
  "nbformat_minor": 0,
  "metadata": {
    "colab": {
      "provenance": [],
      "authorship_tag": "ABX9TyMXGcqM86OFZp3YDdvjLPOB",
      "include_colab_link": true
    },
    "kernelspec": {
      "name": "python3",
      "display_name": "Python 3"
    },
    "language_info": {
      "name": "python"
    }
  },
  "cells": [
    {
      "cell_type": "markdown",
      "metadata": {
        "id": "view-in-github",
        "colab_type": "text"
      },
      "source": [
        "<a href=\"https://colab.research.google.com/github/RNavs-44/Neural_Networks/blob/main/makemore_mlp.ipynb\" target=\"_parent\"><img src=\"https://colab.research.google.com/assets/colab-badge.svg\" alt=\"Open In Colab\"/></a>"
      ]
    },
    {
      "cell_type": "code",
      "execution_count": 1,
      "metadata": {
        "id": "ZLnv8xWmUxGm"
      },
      "outputs": [],
      "source": [
        "import torch\n",
        "import torch.nn.functional as F\n",
        "import random\n",
        "import matplotlib.pyplot as plt # for making figures\n",
        "%matplotlib inline"
      ]
    },
    {
      "cell_type": "code",
      "source": [
        "!wget https://raw.githubusercontent.com/karpathy/makemore/master/names.txt"
      ],
      "metadata": {
        "colab": {
          "base_uri": "https://localhost:8080/"
        },
        "id": "kpKOcyPWVr2Y",
        "outputId": "80217887-58a1-43ac-9cbf-6983cb1c19f7"
      },
      "execution_count": 3,
      "outputs": [
        {
          "output_type": "stream",
          "name": "stdout",
          "text": [
            "--2024-03-16 12:57:43--  https://raw.githubusercontent.com/karpathy/makemore/master/names.txt\n",
            "Resolving raw.githubusercontent.com (raw.githubusercontent.com)... 185.199.108.133, 185.199.109.133, 185.199.110.133, ...\n",
            "Connecting to raw.githubusercontent.com (raw.githubusercontent.com)|185.199.108.133|:443... connected.\n",
            "HTTP request sent, awaiting response... 200 OK\n",
            "Length: 228145 (223K) [text/plain]\n",
            "Saving to: ‘names.txt.1’\n",
            "\n",
            "\rnames.txt.1           0%[                    ]       0  --.-KB/s               \rnames.txt.1         100%[===================>] 222.80K  --.-KB/s    in 0.02s   \n",
            "\n",
            "2024-03-16 12:57:43 (12.5 MB/s) - ‘names.txt.1’ saved [228145/228145]\n",
            "\n"
          ]
        }
      ]
    },
    {
      "cell_type": "code",
      "source": [
        "words = open('names.txt', 'r').read().splitlines()\n",
        "words[:8]"
      ],
      "metadata": {
        "colab": {
          "base_uri": "https://localhost:8080/"
        },
        "id": "A0Vk6NqTVvyn",
        "outputId": "56998c52-e87d-4233-91b1-bb6ea1ec93a2"
      },
      "execution_count": 4,
      "outputs": [
        {
          "output_type": "execute_result",
          "data": {
            "text/plain": [
              "['emma', 'olivia', 'ava', 'isabella', 'sophia', 'charlotte', 'mia', 'amelia']"
            ]
          },
          "metadata": {},
          "execution_count": 4
        }
      ]
    },
    {
      "cell_type": "code",
      "source": [
        "len(words)"
      ],
      "metadata": {
        "colab": {
          "base_uri": "https://localhost:8080/"
        },
        "id": "jw8IcdweV5HO",
        "outputId": "f7a42374-9765-4f5a-d96e-9ca22b83f139"
      },
      "execution_count": 5,
      "outputs": [
        {
          "output_type": "execute_result",
          "data": {
            "text/plain": [
              "32033"
            ]
          },
          "metadata": {},
          "execution_count": 5
        }
      ]
    },
    {
      "cell_type": "code",
      "source": [
        "# build vocabulary of characters and mapping to / from integers\n",
        "chars = sorted(list(set(''.join(words))))\n",
        "stoi = {s: i + 1 for i, s in enumerate(chars)}\n",
        "stoi['.'] = 0\n",
        "itos = {i: s for s, i in stoi.items()}\n",
        "vocab_size = len(itos)\n",
        "print(itos)\n",
        "print(vocab_size)"
      ],
      "metadata": {
        "colab": {
          "base_uri": "https://localhost:8080/"
        },
        "id": "glnn_Fa3V9to",
        "outputId": "2391c7b7-bbb1-405e-d9f1-962ce8be99e9"
      },
      "execution_count": 16,
      "outputs": [
        {
          "output_type": "stream",
          "name": "stdout",
          "text": [
            "{1: 'a', 2: 'b', 3: 'c', 4: 'd', 5: 'e', 6: 'f', 7: 'g', 8: 'h', 9: 'i', 10: 'j', 11: 'k', 12: 'l', 13: 'm', 14: 'n', 15: 'o', 16: 'p', 17: 'q', 18: 'r', 19: 's', 20: 't', 21: 'u', 22: 'v', 23: 'w', 24: 'x', 25: 'y', 26: 'z', 0: '.'}\n",
            "27\n"
          ]
        }
      ]
    },
    {
      "cell_type": "code",
      "source": [
        "# build the dataset\n",
        "block_size = 3 # context length\n",
        "\n",
        "def build_dataset(words):\n",
        "  x, y = [], []\n",
        "  for w in words:\n",
        "    context = [0] * block_size\n",
        "    for ch in w + '.':\n",
        "      ix = stoi[ch]\n",
        "      x.append(context)\n",
        "      y.append(ix)\n",
        "      context = context[1:] + [ix] # crop and append\n",
        "\n",
        "  x = torch.tensor(x)\n",
        "  y = torch.tensor(y)\n",
        "\n",
        "  return x, y\n",
        "\n",
        "random.seed(42)\n",
        "random.shuffle(words)\n",
        "n1 = int(0.8 * len(words))\n",
        "n2 = int(0.9 * len(words))\n",
        "\n",
        "xtr, ytr = build_dataset(words[:n1])\n",
        "xdev, ydev = build_dataset(words[n1:n2])\n",
        "xts, yts = build_dataset(words[n2:])"
      ],
      "metadata": {
        "colab": {
          "base_uri": "https://localhost:8080/"
        },
        "id": "pOASGZDCW5rh",
        "outputId": "5c8f0042-d394-4330-826c-15fd8fb87ed7"
      },
      "execution_count": 31,
      "outputs": [
        {
          "output_type": "execute_result",
          "data": {
            "text/plain": [
              "182544"
            ]
          },
          "metadata": {},
          "execution_count": 31
        }
      ]
    },
    {
      "cell_type": "code",
      "source": [
        "n_embd = 10\n",
        "n_hidden = 200\n",
        "\n",
        "g = torch.Generator().manual_seed(2147483647)\n",
        "c = torch.randn((vocab_size, n_embd))\n",
        "w1 = torch.randn((n_embd * block_size, n_hidden))\n",
        "b1 = torch.randn(n_hidden)\n",
        "w2 = torch.randn((n_hidden, vocab_size))\n",
        "b2 = torch.randn(vocab_size)\n",
        "parameters = [c, w1, b1, w2, b2]\n",
        "\n",
        "print(sum(p.nelement() for p in parameters)) # number of parameters in total\n",
        "\n",
        "for p in parameters:\n",
        "  p.requires_grad = True"
      ],
      "metadata": {
        "colab": {
          "base_uri": "https://localhost:8080/"
        },
        "id": "_49VSDj6ZLXQ",
        "outputId": "285e8e8e-f78b-4aaa-8f8a-13fcdf0c1772"
      },
      "execution_count": 52,
      "outputs": [
        {
          "output_type": "stream",
          "name": "stdout",
          "text": [
            "11897\n"
          ]
        }
      ]
    },
    {
      "cell_type": "code",
      "source": [
        "max_steps = 200000\n",
        "batch_size = 32\n",
        "lossi = []\n",
        "\n",
        "for i in range(max_steps):\n",
        "  # minibatch construction\n",
        "  ix = torch.randint(0, xtr.shape[0], (batch_size, )) # randint(low, hight, size)\n",
        "  xb, yb = xtr[ix], ytr[ix]\n",
        "\n",
        "  # forward pass\n",
        "  emb = c[xb]\n",
        "  embcat = emb.view(emb.shape[0], -1)\n",
        "  hpreact = embcat @ w1 + b1\n",
        "  h = torch.tanh(hpreact)\n",
        "  logits = h @ w2 + b2\n",
        "  loss = F.cross_entropy(logits, yb)\n",
        "\n",
        "  # backward pass\n",
        "  for p in parameters:\n",
        "    p.grad = None\n",
        "  loss.backward()\n",
        "\n",
        "  # update\n",
        "  lr = 0.1 if i < 100000 else 0.01\n",
        "  for p in parameters:\n",
        "    p.data += -lr * p.grad\n",
        "\n",
        "  # track stats\n",
        "  if i % 10000 == 0:\n",
        "    print(f'{i:7d} / {max_steps:7d}: {loss.item()}')\n",
        "  lossi.append(loss.log10().item())\n",
        "\n",
        "print(loss.item())\n"
      ],
      "metadata": {
        "colab": {
          "base_uri": "https://localhost:8080/"
        },
        "id": "oDtC6ZR-Zjtw",
        "outputId": "9932581a-bbbf-453a-f798-6c2ae0873732"
      },
      "execution_count": 53,
      "outputs": [
        {
          "output_type": "stream",
          "name": "stdout",
          "text": [
            "      0 /  200000: 29.526050567626953\n",
            "  10000 /  200000: 2.6376473903656006\n",
            "  20000 /  200000: 2.377519130706787\n",
            "  30000 /  200000: 2.168323278427124\n",
            "  40000 /  200000: 2.506762742996216\n",
            "  50000 /  200000: 2.557873487472534\n",
            "  60000 /  200000: 2.112635850906372\n",
            "  70000 /  200000: 1.9628098011016846\n",
            "  80000 /  200000: 2.147214651107788\n",
            "  90000 /  200000: 2.515380620956421\n",
            " 100000 /  200000: 2.3908863067626953\n",
            " 110000 /  200000: 1.855699896812439\n",
            " 120000 /  200000: 2.208400011062622\n",
            " 130000 /  200000: 2.8871803283691406\n",
            " 140000 /  200000: 2.1946489810943604\n",
            " 150000 /  200000: 2.048001766204834\n",
            " 160000 /  200000: 2.326359748840332\n",
            " 170000 /  200000: 2.1858012676239014\n",
            " 180000 /  200000: 2.0613818168640137\n",
            " 190000 /  200000: 2.0051865577697754\n",
            "2.2710604667663574\n"
          ]
        }
      ]
    },
    {
      "cell_type": "code",
      "source": [
        "@torch.no_grad()\n",
        "def split_loss(split):\n",
        "  x, y = {\n",
        "      'train': (xtr, ytr),\n",
        "      'val': (xdev, ydev),\n",
        "      'test': (xts, yts),\n",
        "  }[split]\n",
        "  emb = c[x]\n",
        "  embcat = emb.view(emb.shape[0], -1)\n",
        "  hpreact = embcat @ w1 + b1\n",
        "  h = torch.tanh(hpreact)\n",
        "  logits = h @ w2 + b2\n",
        "  loss = F.cross_entropy(logits, y)\n",
        "  print(split, loss.item())\n",
        "\n",
        "split_loss('train')\n",
        "split_loss('val')"
      ],
      "metadata": {
        "colab": {
          "base_uri": "https://localhost:8080/"
        },
        "id": "4_AZg4ubj3s1",
        "outputId": "a8065fd5-cac8-47e0-a102-7ec096ede1b6"
      },
      "execution_count": 54,
      "outputs": [
        {
          "output_type": "stream",
          "name": "stdout",
          "text": [
            "train 2.124711275100708\n",
            "val 2.1641905307769775\n"
          ]
        }
      ]
    },
    {
      "cell_type": "code",
      "source": [
        "# sample from model\n",
        "for _ in range(20):\n",
        "  out = []\n",
        "  context = [0] * block_size\n",
        "  while True:\n",
        "    # forward pass neural net\n",
        "    emb = c[torch.tensor(context)]\n",
        "    embcat = emb.view(1, -1)\n",
        "    hpreact = embcat @ w1 + b1\n",
        "    h = torch.tanh(hpreact)\n",
        "    logits = h @ w2 + b2\n",
        "    probs = F.softmax(logits, dim = 1)\n",
        "\n",
        "    # sample from distribution\n",
        "    ix = torch.multinomial(probs, num_samples=1, generator=g).item()\n",
        "\n",
        "    # shift context window and track samples\n",
        "    context = context[1:] + [ix]\n",
        "    out.append(ix)\n",
        "\n",
        "    # if we sample special '.' token break\n",
        "    if ix == 0:\n",
        "      break\n",
        "  print(''.join(itos[i] for i in out)) # print generated word"
      ],
      "metadata": {
        "colab": {
          "base_uri": "https://localhost:8080/"
        },
        "id": "02BoF9tUkgHT",
        "outputId": "95b9d383-ec36-493c-cd45-1baacc3b27b9"
      },
      "execution_count": 55,
      "outputs": [
        {
          "output_type": "stream",
          "name": "stdout",
          "text": [
            "junide.\n",
            "janaque.\n",
            "pres.\n",
            "amaina.\n",
            "kailritolemarayeem.\n",
            "sameaa.\n",
            "zamilenias.\n",
            "dedaine.\n",
            "imer.\n",
            "sna.\n",
            "inayla.\n",
            "terinleumarifoltamj.\n",
            "ponne.\n",
            "mah.\n",
            "jaylinora.\n",
            "yae.\n",
            "ocamy.\n",
            "jamilynn.\n",
            "miki.\n",
            "wynn.\n"
          ]
        }
      ]
    }
  ]
}